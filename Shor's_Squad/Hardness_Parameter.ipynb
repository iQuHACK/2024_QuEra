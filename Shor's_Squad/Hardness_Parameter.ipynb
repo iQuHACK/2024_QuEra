{
 "cells": [
  {
   "cell_type": "markdown",
   "metadata": {},
   "source": [
    "Here we calculate the hardness parameter (HP) of a given problem instace as defined by Ebadi et. al (https://arxiv.org/pdf/2202.09372.pdf) where HP = $\\frac{D_{|MIS| - 1}}{(|MIS| \\cdot D_{|MIS|})}$ "
   ]
  },
  {
   "cell_type": "code",
   "execution_count": 1,
   "metadata": {},
   "outputs": [
    {
     "ename": "SyntaxError",
     "evalue": "invalid syntax (3340530492.py, line 1)",
     "output_type": "error",
     "traceback": [
      "\u001b[0;36m  Cell \u001b[0;32mIn[1], line 1\u001b[0;36m\u001b[0m\n\u001b[0;31m    using Bloqade\u001b[0m\n\u001b[0m          ^\u001b[0m\n\u001b[0;31mSyntaxError\u001b[0m\u001b[0;31m:\u001b[0m invalid syntax\n"
     ]
    }
   ],
   "source": [
    "using Bloqade\n",
    "using Random\n",
    "Random.seed!(42)\n",
    "using PythonCall\n",
    "plt = pyimport(\"matplotlib.pyplot\");\n",
    "np = pyimport(\"numpy\")\n",
    "\n",
    "# using Graphs\n",
    "using GenericTensorNetworks, Graphs\n",
    "using GenericTensorNetworks: unit_disk_graph\n",
    "using Optim\n"
   ]
  },
  {
   "cell_type": "code",
   "execution_count": null,
   "metadata": {},
   "outputs": [],
   "source": [
    "# Set the random seed for reproducibility\n",
    "Random.seed!(2)\n",
    "\n",
    "# Base scale factor\n",
    "a = 1\n",
    "\n",
    "# Rb=(40)^(0.25) * a\n",
    "\n",
    "# Set blockade radius to 3 times the scale factor 'a'\n",
    "Rb = 3 * a\n",
    "\n",
    "# Set the dimension for the lattice\n",
    "dimension = 5\n",
    "\n",
    "# Initialize arrays to store results using numpy (np should be previously aliased to PyCall's numpy)\n",
    "Rb_arr = np.array([])\n",
    "dimension_arr = np.array([])\n",
    "HP_arr = np.array([])\n",
    "\n",
    "function plot(Rb, dimension, Rb_arr, dimension_arr, HP_arr)\n",
    "    println(Rb, \" \", dimension)\n",
    "    \n",
    "    # Generate sites on a square lattice, apply random dropout of 20%\n",
    "    atoms = generate_sites(SquareLattice(), dimension, dimension; scale = a) |> random_dropout(0.2)\n",
    "\n",
    "    # Bloqade.plot(atoms, blockade_radius = Rb)\n",
    "\n",
    "    # Generate a graph based on the unit disk graph model\n",
    "    graph = BloqadeMIS.unit_disk_graph(atoms, Rb)\n",
    "\n",
    "    # Define an IndependentSet problem with the TreeSA optimizer\n",
    "    problem = IndependentSet(graph; optimizer=TreeSA())\n",
    "\n",
    "    # maximum_independent_set_size = GenericTensorNetworks.solve(problem, SizeMax())[]\n",
    "\n",
    "    # Solve the MIS problem to count the maximum independent sets\n",
    "    count_maximum_independents_sets = GenericTensorNetworks.solve(problem, CountingMax())[]\n",
    "\n",
    "    # Solve to count maximum independent sets with a size constraint\n",
    "    count_max2_independent_sets = GenericTensorNetworks.solve(problem, CountingMax(2))[]\n",
    "\n",
    "    # Extract the number of MIS and its degeneracy\n",
    "    MIS = count_maximum_independents_sets.n\n",
    "    DMIS = count_maximum_independents_sets.c\n",
    "    DMIS_minus1 = count_max2_independent_sets.coeffs[1]\n",
    "\n",
    "    # Calculate Hardness Parameter\n",
    "    HP = DMIS_minus1 / (MIS * DMIS)\n",
    "\n",
    "    # Print the HP value\n",
    "    println(HP)\n",
    "\n",
    "    # Append the current results to the result arrays\n",
    "    global Rb_arr = np.append(Rb_arr, Rb)\n",
    "    global dimension_arr = np.append(dimension_arr, dimension)\n",
    "    global HP_arr = np.append(HP_arr, HP)\n",
    "end\n",
    "\n",
    "# Determine which parameter to vary in the simulation: Rb or dimension\n",
    "set = 1 # 0: Rb, 1: dimension\n",
    "\n",
    "# If set to vary Rb\n",
    "if set == 0\n",
    "    # Create an array of dimensions to iterate over\n",
    "    dim_input = np.linspace(4, 18, 15)\n",
    "    for i in 1:15\n",
    "        # Call the plot function with each dimension value\n",
    "        plot(Rb, pyconvert(Int64, dim_input[i]), Rb_arr, dimension_arr, HP_arr)\n",
    "    end\n",
    "# If set to vary dimension\n",
    "elseif set == 1\n",
    "    # Create an array of Rb values to iterate over\n",
    "    Rb_input = np.linspace(1.2 * a, 7 * a, 14)\n",
    "    println(length(Rb_input))\n",
    "    for i in 1:14\n",
    "        # Call the plot function with each Rb value\n",
    "        plot(pyconvert(Float64, Rb_input[i-1]), dimension, Rb_arr, dimension_arr, HP_arr)\n",
    "    end\n",
    "end\n",
    "\n",
    "# Example call to plot function (currently commented out)\n",
    "# plot(2, 4, Rb_arr, dimension_arr, HP_arr)\n"
   ]
  },
  {
   "cell_type": "code",
   "execution_count": null,
   "metadata": {},
   "outputs": [],
   "source": [
    "println(dimension_arr)\n",
    "println(Rb_arr)\n",
    "println(HP_arr)\n",
    "\n",
    "plt.clf()\n",
    "plt.plot(Rb_arr, HP_arr)\n",
    "plt.title(\"5x5\")\n",
    "# plt.legend(\"\")\n",
    "plt.xlabel(\"Radius\")\n",
    "plt.ylabel(\"Hardness\")\n",
    "plt.savefig(\"/Users/kartikpingle/Desktop/5x5_new\")"
   ]
  }
 ],
 "metadata": {
  "kernelspec": {
   "display_name": "base",
   "language": "python",
   "name": "python3"
  },
  "language_info": {
   "codemirror_mode": {
    "name": "ipython",
    "version": 3
   },
   "file_extension": ".py",
   "mimetype": "text/x-python",
   "name": "python",
   "nbconvert_exporter": "python",
   "pygments_lexer": "ipython3",
   "version": "3.9.12"
  }
 },
 "nbformat": 4,
 "nbformat_minor": 2
}
